{
 "cells": [
  {
   "cell_type": "markdown",
   "id": "68a850a6-859b-4d2c-a814-ddb89b639281",
   "metadata": {
    "tags": []
   },
   "source": [
    "#### Importando bibliotecas"
   ]
  },
  {
   "cell_type": "code",
   "execution_count": 2,
   "id": "70148164-b406-4950-a260-e2ebc934a81c",
   "metadata": {},
   "outputs": [],
   "source": [
    "# manipulação de dados\n",
    "import pandas as pd\n",
    "import numpy as np\n",
    "# gerencialmento do MLFlow\n",
    "import mlflow"
   ]
  },
  {
   "cell_type": "markdown",
   "id": "f004ba7c-c7c3-4027-b4b3-f579d9199b17",
   "metadata": {},
   "source": [
    "#### Lendo dados\n",
    "##### Neste tutorial será utilizado o conjunto de dados IRIS, comumente utilizado para testar algoritmos de machine learning <https://archive.ics.uci.edu/ml/datasets/iris>. Este dataset contém 3 classes de iris (gênero de planta), cada qual com 50 instâncias."
   ]
  },
  {
   "cell_type": "markdown",
   "id": "c3d1f1e1-7f96-451f-9811-659ed7134133",
   "metadata": {},
   "source": [
    "#### Consumo do modelo previamente salvo"
   ]
  },
  {
   "cell_type": "code",
   "execution_count": 3,
   "id": "2c9c6834-2858-483b-a238-8fc1a5c74817",
   "metadata": {},
   "outputs": [],
   "source": [
    "# Criação de um vetor com as informação a serem utilizadas para realizar\n",
    "# uma nova previsão (cada valor se referente a um dos 5 atributos do dataset)\n",
    "data_to_predict = np.array([0.5, 2, 5, 0.2])"
   ]
  },
  {
   "cell_type": "code",
   "execution_count": 4,
   "id": "7f757bd4-fc01-476c-8075-9711c709ecf2",
   "metadata": {},
   "outputs": [
    {
     "name": "stderr",
     "output_type": "stream",
     "text": [
      "c:\\users\\jairp\\appdata\\local\\programs\\python\\python39\\lib\\site-packages\\sklearn\\base.py:441: UserWarning: X does not have valid feature names, but DecisionTreeClassifier was fitted with feature names\n",
      "  warnings.warn(\n"
     ]
    },
    {
     "data": {
      "text/plain": [
       "array(['Iris-virginica'], dtype=object)"
      ]
     },
     "execution_count": 4,
     "metadata": {},
     "output_type": "execute_result"
    }
   ],
   "source": [
    "# Log do modelo de interesse. Obs.: a lista contendo todos os modelos pode \n",
    "# ser vizualida a partir da interface do MLflow\n",
    "logged_model = 'runs:/fac567bde1f043a4afff020bb304575f/model'\n",
    "\n",
    "# Carregando o modelo de interesse.\n",
    "loaded_model = mlflow.pyfunc.load_model(logged_model)\n",
    "\n",
    "# Realização da previsão para uma nova instância.\n",
    "import pandas as pd\n",
    "data_predict = data_to_predict.reshape(1, -1)\n",
    "loaded_model.predict(data_predict)"
   ]
  }
 ],
 "metadata": {
  "kernelspec": {
   "display_name": "Python 3 (ipykernel)",
   "language": "python",
   "name": "python3"
  },
  "language_info": {
   "codemirror_mode": {
    "name": "ipython",
    "version": 3
   },
   "file_extension": ".py",
   "mimetype": "text/x-python",
   "name": "python",
   "nbconvert_exporter": "python",
   "pygments_lexer": "ipython3",
   "version": "3.9.0"
  }
 },
 "nbformat": 4,
 "nbformat_minor": 5
}
