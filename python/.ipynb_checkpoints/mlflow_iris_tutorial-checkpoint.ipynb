{
 "cells": [
  {
   "cell_type": "markdown",
   "id": "d0ee11e1-93aa-4715-8832-c26a96c11176",
   "metadata": {},
   "source": [
    "#### Instalando o MLflow\n",
    "##### A forma de instalação do MLflow  que executaremos aqui se refere à informada na documentação oficial para o Sistema Operacional Windows. A instalação para Linux e MacOS possui detalhes que devem ser analisados em: https://www.mlflow.org/docs/latest/quickstart.html."
   ]
  },
  {
   "cell_type": "code",
   "execution_count": 4,
   "id": "74f05686-6771-4cbd-9344-e4db469704ad",
   "metadata": {},
   "outputs": [],
   "source": [
    "# Instalação da biblioteca MLflow\n",
    "# Neste caso, o \"!\" do pip fará com que o comando que segue seja exetucado\n",
    "# diretamente no terminal.\n",
    "!pip install mlflow"
   ]
  },
  {
   "cell_type": "markdown",
   "id": "cd48f165-84e3-459c-a464-8a6d5349d92b",
   "metadata": {},
   "source": [
    "##### Para abrir a interface do MLflow o comando 'mlflow ui' deve ser executado no terminal. Por padrão, para visualiar a interface deve-se acessar http://localhost:5000.\n"
   ]
  },
  {
   "cell_type": "markdown",
   "id": "68a850a6-859b-4d2c-a814-ddb89b639281",
   "metadata": {},
   "source": [
    "#### Importando bibliotecas"
   ]
  },
  {
   "cell_type": "code",
   "execution_count": 10,
   "id": "70148164-b406-4950-a260-e2ebc934a81c",
   "metadata": {},
   "outputs": [],
   "source": [
    "# Manipulação de dados\n",
    "import pandas as pd\n",
    "import numpy as np\n",
    "# Machine learning\n",
    "from sklearn import datasets\n",
    "from sklearn.model_selection import train_test_split\n",
    "from sklearn.tree import DecisionTreeClassifier, plot_tree\n",
    "from sklearn import metrics\n",
    "from sklearn.metrics import mean_squared_error, mean_absolute_error, r2_score\n",
    "# Manipulação de imagens\n",
    "import matplotlib\n",
    "import matplotlib.pyplot as plt\n",
    "# Gerencialmento do MLFlow\n",
    "import mlflow\n",
    "import mlflow.sklearn"
   ]
  },
  {
   "cell_type": "markdown",
   "id": "f004ba7c-c7c3-4027-b4b3-f579d9199b17",
   "metadata": {},
   "source": [
    "#### Lendo dados\n",
    "##### Neste tutorial será utilizado o conjunto de dados IRIS, comumente utilizado para testar algoritmos de classificação <https://archive.ics.uci.edu/ml/datasets/iris>. Este dataset contém 3 classes de iris (gênero de planta), cada qual com 50 instâncias."
   ]
  },
  {
   "cell_type": "code",
   "execution_count": 15,
   "id": "f75e8675-d701-46f7-a7c4-1ba149e79684",
   "metadata": {},
   "outputs": [
    {
     "data": {
      "text/html": [
       "<div>\n",
       "<style scoped>\n",
       "    .dataframe tbody tr th:only-of-type {\n",
       "        vertical-align: middle;\n",
       "    }\n",
       "\n",
       "    .dataframe tbody tr th {\n",
       "        vertical-align: top;\n",
       "    }\n",
       "\n",
       "    .dataframe thead th {\n",
       "        text-align: right;\n",
       "    }\n",
       "</style>\n",
       "<table border=\"1\" class=\"dataframe\">\n",
       "  <thead>\n",
       "    <tr style=\"text-align: right;\">\n",
       "      <th></th>\n",
       "      <th>sepal_length</th>\n",
       "      <th>sepal_width</th>\n",
       "      <th>petal_length</th>\n",
       "      <th>petal_width</th>\n",
       "      <th>species</th>\n",
       "    </tr>\n",
       "  </thead>\n",
       "  <tbody>\n",
       "    <tr>\n",
       "      <th>0</th>\n",
       "      <td>5.1</td>\n",
       "      <td>3.5</td>\n",
       "      <td>1.4</td>\n",
       "      <td>0.2</td>\n",
       "      <td>Iris-setosa</td>\n",
       "    </tr>\n",
       "    <tr>\n",
       "      <th>1</th>\n",
       "      <td>4.9</td>\n",
       "      <td>3.0</td>\n",
       "      <td>1.4</td>\n",
       "      <td>0.2</td>\n",
       "      <td>Iris-setosa</td>\n",
       "    </tr>\n",
       "    <tr>\n",
       "      <th>2</th>\n",
       "      <td>4.7</td>\n",
       "      <td>3.2</td>\n",
       "      <td>1.3</td>\n",
       "      <td>0.2</td>\n",
       "      <td>Iris-setosa</td>\n",
       "    </tr>\n",
       "    <tr>\n",
       "      <th>3</th>\n",
       "      <td>4.6</td>\n",
       "      <td>3.1</td>\n",
       "      <td>1.5</td>\n",
       "      <td>0.2</td>\n",
       "      <td>Iris-setosa</td>\n",
       "    </tr>\n",
       "    <tr>\n",
       "      <th>4</th>\n",
       "      <td>5.0</td>\n",
       "      <td>3.6</td>\n",
       "      <td>1.4</td>\n",
       "      <td>0.2</td>\n",
       "      <td>Iris-setosa</td>\n",
       "    </tr>\n",
       "  </tbody>\n",
       "</table>\n",
       "</div>"
      ],
      "text/plain": [
       "   sepal_length  sepal_width  petal_length  petal_width      species\n",
       "0           5.1          3.5           1.4          0.2  Iris-setosa\n",
       "1           4.9          3.0           1.4          0.2  Iris-setosa\n",
       "2           4.7          3.2           1.3          0.2  Iris-setosa\n",
       "3           4.6          3.1           1.5          0.2  Iris-setosa\n",
       "4           5.0          3.6           1.4          0.2  Iris-setosa"
      ]
     },
     "execution_count": 15,
     "metadata": {},
     "output_type": "execute_result"
    }
   ],
   "source": [
    "iris_url = \"https://archive.ics.uci.edu/ml/machine-learning-databases/iris/iris.data\"\n",
    "names = ['sepal_length', 'sepal_width', 'petal_length', 'petal_width', 'species']\n",
    "iris_df = pd.read_csv(iris_url, header=None).set_axis(names, axis=1)\n",
    "iris_df.head()"
   ]
  },
  {
   "cell_type": "markdown",
   "id": "5878ab78-c8b5-4f66-8688-233b5b89869b",
   "metadata": {},
   "source": [
    "#### Separação em conjuntos de treinamento e test\n",
    "##### O dataset foi dividido na proporção 70%/30%, respectivamente para os conjunto de validação e teste."
   ]
  },
  {
   "cell_type": "code",
   "execution_count": 16,
   "id": "31042916-e43e-465b-9b08-a1065690c635",
   "metadata": {},
   "outputs": [],
   "source": [
    "train, test = train_test_split(iris_df, test_size = 0.3, stratify = iris_df[\"species\"], random_state = 42)\n",
    "X_train = train[['sepal_length','sepal_width','petal_length','petal_width']]\n",
    "y_train = train.species\n",
    "X_test = test[['sepal_length','sepal_width','petal_length','petal_width']]\n",
    "y_test = test.species"
   ]
  },
  {
   "cell_type": "markdown",
   "id": "7c5940ca-f618-4951-a71a-83195d9cd085",
   "metadata": {},
   "source": [
    "#### Criação do ambiente e gerenciamento dos experimentos no MLflow"
   ]
  },
  {
   "cell_type": "code",
   "execution_count": null,
   "id": "00ceb633-6197-4f4a-843f-11c5f5efd676",
   "metadata": {},
   "outputs": [],
   "source": [
    "#mlflow.create_experiment(\"Classification-iris\")"
   ]
  },
  {
   "cell_type": "code",
   "execution_count": 19,
   "id": "1a09af37-cca9-4690-8ac2-ed0616d3a597",
   "metadata": {},
   "outputs": [
    {
     "name": "stderr",
     "output_type": "stream",
     "text": [
      "c:\\users\\jairp\\appdata\\local\\programs\\python\\python39\\lib\\site-packages\\sklearn\\utils\\deprecation.py:87: FutureWarning: Function plot_confusion_matrix is deprecated; Function `plot_confusion_matrix` is deprecated in 1.0 and will be removed in 1.2. Use one of the class methods: ConfusionMatrixDisplay.from_predictions or ConfusionMatrixDisplay.from_estimator.\n",
      "  warnings.warn(msg, category=FutureWarning)\n"
     ]
    },
    {
     "name": "stdout",
     "output_type": "stream",
     "text": [
      "DT model (max_depth=5):\n",
      "Accuracy: 0.889\n",
      "F1: 0.889\n",
      "Precision: 0.89\n"
     ]
    },
    {
     "data": {
      "text/plain": [
       "<Figure size 864x720 with 0 Axes>"
      ]
     },
     "metadata": {},
     "output_type": "display_data"
    }
   ],
   "source": [
    "mlflow.set_experiment('Classification-iris') \n",
    "with mlflow.start_run():\n",
    "    #lr = ElasticNet(alpha=alpha, l1_ratio=l1_ratio, random_state=42)\n",
    "    #lr.fit(train_x, train_y)\n",
    "    max_depth = 5\n",
    "    criterion = 'entropy' #“entropy”, “log_loss”\n",
    "    splitter = 'ramdom' #ramdom\n",
    "    dt_model = DecisionTreeClassifier(max_depth = max_depth, criterion = criterion\n",
    "                                      , splitter='best', random_state = 42)\n",
    "    dt_model.fit(X_train, y_train)\n",
    "   \n",
    "    fn = [\"sepal_length\", \"sepal_width\", \"petal_length\", \"petal_width\"]\n",
    "    cn = ['setosa', 'versicolor', 'virginica']\n",
    "    \n",
    "    plt.figure(figsize = (12, 10))\n",
    "    plot_tree(dt_model, feature_names = fn, class_names = cn, filled = True)\n",
    "    display()\n",
    "    plt_ = 'dt_figure.png' \n",
    "    plt.savefig(plt_)\n",
    "    mlflow.log_artifact(plt_)\n",
    "    plt.close()\n",
    "    \n",
    "    plt.figure(figsize = (12, 10))\n",
    "    mc = metrics.plot_confusion_matrix(dt_model, X_test, y_test,\n",
    "                                 display_labels=cn,\n",
    "                                 cmap=plt.cm.Blues,\n",
    "                                 normalize=None)\n",
    "    display()\n",
    "    plt_ = 'dt_confusion_matrix.png' \n",
    "    plt.savefig(plt_)\n",
    "    mlflow.log_artifact(plt_)\n",
    "    plt.close()\n",
    "   \n",
    "    #predicted_qualities = lr.predict(test_x)\n",
    "    prediction = dt_model.predict(X_test)\n",
    "    \n",
    "    acc = metrics.accuracy_score(prediction, y_test)\n",
    "    f1 = metrics.f1_score(prediction, y_test, average='weighted')\n",
    "    precision = metrics.precision_score(prediction, y_test, average='weighted')\n",
    "\n",
    "    print(f\"DT model (max_depth={5}):\")\n",
    "    print(f\"Accuracy: {round(acc,3)}\")\n",
    "    print(f\"F1: {round(f1,3)}\")\n",
    "    print(f\"Precision: {round(precision,3)}\")\n",
    "\n",
    "    mlflow.log_param(\"max_depth\", max_depth)\n",
    "    mlflow.log_param(\"criterion\", criterion)\n",
    "    mlflow.log_param(\"splitter\", splitter)\n",
    "    mlflow.log_metric(\"acc\", acc)\n",
    "    mlflow.log_metric(\"f1\", f1)\n",
    "    mlflow.log_metric(\"precision\", precision)\n",
    "\n",
    "    mlflow.sklearn.log_model(dt_model, \"model\")"
   ]
  }
 ],
 "metadata": {
  "kernelspec": {
   "display_name": "Python 3 (ipykernel)",
   "language": "python",
   "name": "python3"
  },
  "language_info": {
   "codemirror_mode": {
    "name": "ipython",
    "version": 3
   },
   "file_extension": ".py",
   "mimetype": "text/x-python",
   "name": "python",
   "nbconvert_exporter": "python",
   "pygments_lexer": "ipython3",
   "version": "3.9.0"
  }
 },
 "nbformat": 4,
 "nbformat_minor": 5
}
